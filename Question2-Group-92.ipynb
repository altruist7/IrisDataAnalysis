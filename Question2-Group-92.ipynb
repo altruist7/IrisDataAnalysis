{
 "cells": [
  {
   "cell_type": "markdown",
   "metadata": {},
   "source": [
    "# *** Import Libraries ***"
   ]
  },
  {
   "cell_type": "code",
   "execution_count": 118,
   "metadata": {},
   "outputs": [],
   "source": [
    "import numpy as np # linear algebra\n",
    "import pandas as pd # data processing, CSV file I/O (e.g. pd.read_csv)\n",
    "import matplotlib.pyplot as plt\n",
    "from sklearn import datasets\n",
    "import seaborn as sns #for confusion matrix\n",
    "from sklearn.model_selection import train_test_split, GridSearchCV\n",
    "from sklearn.naive_bayes import GaussianNB, BernoulliNB, MultinomialNB\n",
    "from sklearn.metrics import roc_curve, auc, confusion_matrix, classification_report,accuracy_score\n",
    "from scipy.special import expit\n",
    "from sklearn.metrics import accuracy_score\n",
    "from mlxtend.plotting import plot_decision_regions\n",
    "import matplotlib.gridspec as gridspec\n",
    "import itertools"
   ]
  },
  {
   "cell_type": "markdown",
   "metadata": {},
   "source": [
    "## 1. Import the data dataset from https://archive.ics.uci.edu/ml/machine-learning-databases/iris/ (Links to an external site.) (1 points)."
   ]
  },
  {
   "cell_type": "code",
   "execution_count": 119,
   "metadata": {},
   "outputs": [],
   "source": [
    "colnames=['col0', 'col1', 'col2','col4', 'class'] \n",
    "irisData=pd.read_csv('./data/iris.data',names=colnames, header=None)"
   ]
  },
  {
   "cell_type": "markdown",
   "metadata": {},
   "source": [
    "## 2. Identify the presence of missing values, write the code to fill the missing values with mean for numerical attributes and mode value for categorical attributes. (1 points)"
   ]
  },
  {
   "cell_type": "code",
   "execution_count": 120,
   "metadata": {},
   "outputs": [
    {
     "data": {
      "text/plain": [
       "col0     0\n",
       "col1     0\n",
       "col2     0\n",
       "col4     0\n",
       "class    0\n",
       "dtype: int64"
      ]
     },
     "execution_count": 120,
     "metadata": {},
     "output_type": "execute_result"
    }
   ],
   "source": [
    "irisData.isnull().sum()"
   ]
  },
  {
   "cell_type": "code",
   "execution_count": 121,
   "metadata": {},
   "outputs": [
    {
     "data": {
      "text/plain": [
       "{'Iris-setosa', 'Iris-versicolor', 'Iris-virginica'}"
      ]
     },
     "execution_count": 121,
     "metadata": {},
     "output_type": "execute_result"
    }
   ],
   "source": [
    "set(irisData['class'].tolist())"
   ]
  },
  {
   "cell_type": "code",
   "execution_count": 122,
   "metadata": {},
   "outputs": [],
   "source": [
    "irisData[['class']]=irisData[['class']].replace(to_replace={'Iris-setosa':1,'Iris-versicolor':2,'Iris-virginica':3})"
   ]
  },
  {
   "cell_type": "markdown",
   "metadata": {},
   "source": [
    "### 2.1 Correlation Check"
   ]
  },
  {
   "cell_type": "code",
   "execution_count": 195,
   "metadata": {},
   "outputs": [
    {
     "data": {
      "image/png": "[encoded data removed]",
      "text/plain": [
       "<Figure size 432x288 with 2 Axes>"
      ]
     },
     "metadata": {
      "needs_background": "light"
     },
     "output_type": "display_data"
    }
   ],
   "source": [
    "corr = irisData[irisData.columns[0:4]].corr()\n",
    "ax = sns.heatmap(\n",
    "    corr, \n",
    "    vmin=-1, vmax=1, center=0,\n",
    "    cmap=sns.diverging_palette(20, 220, n=200),\n",
    "    square=True\n",
    ")\n",
    "ax.set_xticklabels(\n",
    "    ax.get_xticklabels(),\n",
    "    rotation=45,\n",
    "    horizontalalignment='right'\n",
    ");"
   ]
  },
  {
   "cell_type": "markdown",
   "metadata": {},
   "source": [
    "As we can see from the above graph, that the correlation value is ranging from <b> 0.0</b> to <b>0.9</b>. So for more feature visualization we can neglect the feature with correlation greater than or equal to <b>0.85</b>"
   ]
  },
  {
   "cell_type": "code",
   "execution_count": 198,
   "metadata": {},
   "outputs": [],
   "source": [
    "columns = np.full((corr_df.shape[0],), True, dtype=bool)\n",
    "for i in range(corr_df.shape[0]):\n",
    "    for j in range(i+1, corr_df.shape[0]):\n",
    "        if corr_df.iloc[i,j] >= 0.85:\n",
    "            if columns[j]:\n",
    "                columns[j] = False\n",
    "selected_columns = irisData[irisData.columns[0:4]].columns[columns]\n",
    "X_without_corr = irisData[irisData.columns[0:4]][selected_columns]"
   ]
  },
  {
   "cell_type": "code",
   "execution_count": 199,
   "metadata": {},
   "outputs": [
    {
     "name": "stdout",
     "output_type": "stream",
     "text": [
      "     col0  col1\n",
      "0     5.1   3.5\n",
      "1     4.9   3.0\n",
      "2     4.7   3.2\n",
      "3     4.6   3.1\n",
      "4     5.0   3.6\n",
      "..    ...   ...\n",
      "145   6.7   3.0\n",
      "146   6.3   2.5\n",
      "147   6.5   3.0\n",
      "148   6.2   3.4\n",
      "149   5.9   3.0\n",
      "\n",
      "[150 rows x 2 columns]\n"
     ]
    }
   ],
   "source": [
    "print(X_without_corr)"
   ]
  },
  {
   "cell_type": "markdown",
   "metadata": {},
   "source": [
    "Hence We can use <b>col0</b> and <b>col1</b> for further data modelling because other features are highly correlated.\n",
    "As there is no missing values in the dataset, therefore, we are not processing any missing  here"
   ]
  },
  {
   "cell_type": "markdown",
   "metadata": {},
   "source": [
    "## 3. Extract X as all columns except the Class column and Y as Class column. (1 points) "
   ]
  },
  {
   "cell_type": "code",
   "execution_count": 200,
   "metadata": {},
   "outputs": [],
   "source": [
    "X=irisData[irisData.columns[0:2]].values\n",
    "Y=irisData['class'].values"
   ]
  },
  {
   "cell_type": "markdown",
   "metadata": {},
   "source": [
    "## 4. Split the data into training set and testing set. (1 points)"
   ]
  },
  {
   "cell_type": "code",
   "execution_count": 216,
   "metadata": {},
   "outputs": [],
   "source": [
    "X_train, X_test, y_train, y_test = train_test_split(X, Y, test_size = 0.15, random_state=323,stratify= Y)"
   ]
  },
  {
   "cell_type": "markdown",
   "metadata": {},
   "source": [
    "# 5.Model the classifier using GaussianNB, BernoulliNB and MultinomialNB (3 points)"
   ]
  },
  {
   "cell_type": "markdown",
   "metadata": {},
   "source": [
    "### 5.1 GaussianNB Model"
   ]
  },
  {
   "cell_type": "code",
   "execution_count": 218,
   "metadata": {},
   "outputs": [],
   "source": [
    "irisGaussianModel = GaussianNB()\n",
    "irisGaussianModel.fit(X_train, y_train)\n",
    "trainGausActual=y_train\n",
    "trainGausPredicted=irisGaussianModel.predict(X_train)\n",
    "gaussianExpected = y_test\n",
    "gaussianPredicted = irisGaussianModel.predict(X_test)"
   ]
  },
  {
   "cell_type": "markdown",
   "metadata": {},
   "source": [
    "### 5.2 BernoulliNB Model"
   ]
  },
  {
   "cell_type": "code",
   "execution_count": 222,
   "metadata": {},
   "outputs": [],
   "source": [
    "irisBernoulliNBModel = BernoulliNB(alpha=0.00001,class_prior = [1,1,1])\n",
    "irisBernoulliNBModel.fit(X_train, y_train)\n",
    "trainBernActual=y_train\n",
    "trainBernPredicted=irisBernoulliNBModel.predict(X_train)\n",
    "bernoulliExpected = y_test\n",
    "bernoulliPredicted=irisBernoulliNBModel.predict(X_test)"
   ]
  },
  {
   "cell_type": "markdown",
   "metadata": {},
   "source": [
    "### 5.3 MultinomialNB Model"
   ]
  },
  {
   "cell_type": "code",
   "execution_count": 223,
   "metadata": {},
   "outputs": [],
   "source": [
    "irisMultinomialModel = MultinomialNB()\n",
    "irisMultinomialModel.fit(X_train, y_train)\n",
    "trainMultiActual=y_train\n",
    "trainMultiPredicted=irisMultinomialModel.predict(X_train)\n",
    "multinomialExpected = y_test\n",
    "multinomialPredicted=irisMultinomialModel.predict(X_test)"
   ]
  },
  {
   "cell_type": "markdown",
   "metadata": {},
   "source": [
    "# 6.Compute the accuracy and confusion matrix for each models. (3 points)"
   ]
  },
  {
   "cell_type": "markdown",
   "metadata": {},
   "source": [
    "### 6.1 GaussianNB Model"
   ]
  },
  {
   "cell_type": "code",
   "execution_count": 224,
   "metadata": {},
   "outputs": [
    {
     "name": "stdout",
     "output_type": "stream",
     "text": [
      " ********************************** Train Results Start Here ********************************** \n",
      "\n",
      "              precision    recall  f1-score   support\n",
      "\n",
      "           1       1.00      1.00      1.00        42\n",
      "           2       0.69      0.72      0.70        43\n",
      "           3       0.70      0.67      0.68        42\n",
      "\n",
      "    accuracy                           0.80       127\n",
      "   macro avg       0.80      0.80      0.80       127\n",
      "weighted avg       0.80      0.80      0.80       127\n",
      "\n",
      "[[42  0  0]\n",
      " [ 0 31 12]\n",
      " [ 0 14 28]]\n",
      "The Accuracy Score is 80.0  % \n",
      "\n",
      " ********************************** Test Results Start Here ********************************** \n",
      "\n",
      "              precision    recall  f1-score   support\n",
      "\n",
      "           1       1.00      1.00      1.00         8\n",
      "           2       0.50      0.86      0.63         7\n",
      "           3       0.67      0.25      0.36         8\n",
      "\n",
      "    accuracy                           0.70        23\n",
      "   macro avg       0.72      0.70      0.67        23\n",
      "weighted avg       0.73      0.70      0.67        23\n",
      "\n",
      "[[8 0 0]\n",
      " [0 6 1]\n",
      " [0 6 2]]\n",
      "The Accuracy Score is 70.0  %\n"
     ]
    }
   ],
   "source": [
    "print(\" ********************************** Train Results Start Here ********************************** \\n\")\n",
    "\n",
    "print(classification_report(trainGausActual,trainGausPredicted))\n",
    "print(confusion_matrix(trainGausActual, trainGausPredicted))\n",
    "accuracyScore=accuracy_score(trainGausActual, trainGausPredicted, normalize=True)\n",
    "print(\"The Accuracy Score is\",str(round(accuracyScore*100,0)),\" %\",\"\\n\")\n",
    "\n",
    "\n",
    "print(\" ********************************** Test Results Start Here ********************************** \\n\")\n",
    "print(classification_report(gaussianExpected, gaussianPredicted))\n",
    "print(confusion_matrix(gaussianExpected, gaussianPredicted))\n",
    "accuracyScore=accuracy_score(gaussianExpected, gaussianPredicted, normalize=True)\n",
    "print(\"The Accuracy Score is\",str(round(accuracyScore*100,0)),\" %\")"
   ]
  },
  {
   "cell_type": "markdown",
   "metadata": {},
   "source": [
    "### 6.2 BernoulliNB Model"
   ]
  },
  {
   "cell_type": "code",
   "execution_count": 225,
   "metadata": {},
   "outputs": [
    {
     "name": "stdout",
     "output_type": "stream",
     "text": [
      " ********************************** Train Results Start Here ********************************** \n",
      "\n",
      "              precision    recall  f1-score   support\n",
      "\n",
      "           1       0.00      0.00      0.00        42\n",
      "           2       0.34      1.00      0.51        43\n",
      "           3       0.00      0.00      0.00        42\n",
      "\n",
      "    accuracy                           0.34       127\n",
      "   macro avg       0.11      0.33      0.17       127\n",
      "weighted avg       0.11      0.34      0.17       127\n",
      "\n",
      "[[ 0 42  0]\n",
      " [ 0 43  0]\n",
      " [ 0 42  0]]\n",
      "The Accuracy Score is 34.0  % \n",
      "\n",
      " ********************************** Test Results Start Here ********************************** \n",
      "\n",
      "              precision    recall  f1-score   support\n",
      "\n",
      "           1       0.00      0.00      0.00         8\n",
      "           2       0.30      1.00      0.47         7\n",
      "           3       0.00      0.00      0.00         8\n",
      "\n",
      "    accuracy                           0.30        23\n",
      "   macro avg       0.10      0.33      0.16        23\n",
      "weighted avg       0.09      0.30      0.14        23\n",
      "\n",
      "[[0 8 0]\n",
      " [0 7 0]\n",
      " [0 8 0]]\n",
      "The Accuracy Score is 30.0  %\n"
     ]
    },
    {
     "name": "stderr",
     "output_type": "stream",
     "text": [
      "C:\\Users\\chib\\AppData\\Roaming\\Python\\Python36\\site-packages\\sklearn\\metrics\\_classification.py:1268: UndefinedMetricWarning: Precision and F-score are ill-defined and being set to 0.0 in labels with no predicted samples. Use `zero_division` parameter to control this behavior.\n",
      "  _warn_prf(average, modifier, msg_start, len(result))\n",
      "C:\\Users\\chib\\AppData\\Roaming\\Python\\Python36\\site-packages\\sklearn\\metrics\\_classification.py:1268: UndefinedMetricWarning: Precision and F-score are ill-defined and being set to 0.0 in labels with no predicted samples. Use `zero_division` parameter to control this behavior.\n",
      "  _warn_prf(average, modifier, msg_start, len(result))\n",
      "C:\\Users\\chib\\AppData\\Roaming\\Python\\Python36\\site-packages\\sklearn\\metrics\\_classification.py:1268: UndefinedMetricWarning: Precision and F-score are ill-defined and being set to 0.0 in labels with no predicted samples. Use `zero_division` parameter to control this behavior.\n",
      "  _warn_prf(average, modifier, msg_start, len(result))\n",
      "C:\\Users\\chib\\AppData\\Roaming\\Python\\Python36\\site-packages\\sklearn\\metrics\\_classification.py:1268: UndefinedMetricWarning: Precision and F-score are ill-defined and being set to 0.0 in labels with no predicted samples. Use `zero_division` parameter to control this behavior.\n",
      "  _warn_prf(average, modifier, msg_start, len(result))\n",
      "C:\\Users\\chib\\AppData\\Roaming\\Python\\Python36\\site-packages\\sklearn\\metrics\\_classification.py:1268: UndefinedMetricWarning: Precision and F-score are ill-defined and being set to 0.0 in labels with no predicted samples. Use `zero_division` parameter to control this behavior.\n",
      "  _warn_prf(average, modifier, msg_start, len(result))\n",
      "C:\\Users\\chib\\AppData\\Roaming\\Python\\Python36\\site-packages\\sklearn\\metrics\\_classification.py:1268: UndefinedMetricWarning: Precision and F-score are ill-defined and being set to 0.0 in labels with no predicted samples. Use `zero_division` parameter to control this behavior.\n",
      "  _warn_prf(average, modifier, msg_start, len(result))\n"
     ]
    }
   ],
   "source": [
    "print(\" ********************************** Train Results Start Here ********************************** \\n\")\n",
    "\n",
    "print(classification_report(trainBernActual, trainBernPredicted))\n",
    "print(confusion_matrix(trainBernActual, trainBernPredicted))\n",
    "accuracyScore=accuracy_score(trainBernActual, trainBernPredicted, normalize=True)\n",
    "print(\"The Accuracy Score is\",str(round(accuracyScore*100,0)),\" %\",\"\\n\")\n",
    "\n",
    "print(\" ********************************** Test Results Start Here ********************************** \\n\")\n",
    "\n",
    "print(classification_report(bernoulliExpected, bernoulliPredicted))\n",
    "print(confusion_matrix(bernoulliExpected, bernoulliPredicted))\n",
    "accuracyScore=accuracy_score(bernoulliExpected, bernoulliPredicted, normalize=True)\n",
    "print(\"The Accuracy Score is\",str(round(accuracyScore*100,0)),\" %\")"
   ]
  },
  {
   "cell_type": "markdown",
   "metadata": {},
   "source": [
    "### 6.3 MultinomialNB Model"
   ]
  },
  {
   "cell_type": "code",
   "execution_count": 226,
   "metadata": {},
   "outputs": [
    {
     "name": "stdout",
     "output_type": "stream",
     "text": [
      " ********************************** Train Results Start Here ********************************** \n",
      "\n",
      "              precision    recall  f1-score   support\n",
      "\n",
      "           1       1.00      0.98      0.99        42\n",
      "           2       0.50      1.00      0.67        43\n",
      "           3       0.00      0.00      0.00        42\n",
      "\n",
      "    accuracy                           0.66       127\n",
      "   macro avg       0.50      0.66      0.55       127\n",
      "weighted avg       0.50      0.66      0.55       127\n",
      "\n",
      "[[41  1  0]\n",
      " [ 0 43  0]\n",
      " [ 0 42  0]]\n",
      "The Accuracy Score is 66.0  % \n",
      "\n",
      " ********************************** Test Results Start Here ********************************** \n",
      "\n",
      "              precision    recall  f1-score   support\n",
      "\n",
      "           1       1.00      1.00      1.00         8\n",
      "           2       0.47      1.00      0.64         7\n",
      "           3       0.00      0.00      0.00         8\n",
      "\n",
      "    accuracy                           0.65        23\n",
      "   macro avg       0.49      0.67      0.55        23\n",
      "weighted avg       0.49      0.65      0.54        23\n",
      "\n",
      "[[8 0 0]\n",
      " [0 7 0]\n",
      " [0 8 0]]\n",
      "The Accuracy Score is 65.0  %\n"
     ]
    },
    {
     "name": "stderr",
     "output_type": "stream",
     "text": [
      "C:\\Users\\chib\\AppData\\Roaming\\Python\\Python36\\site-packages\\sklearn\\metrics\\_classification.py:1268: UndefinedMetricWarning: Precision and F-score are ill-defined and being set to 0.0 in labels with no predicted samples. Use `zero_division` parameter to control this behavior.\n",
      "  _warn_prf(average, modifier, msg_start, len(result))\n",
      "C:\\Users\\chib\\AppData\\Roaming\\Python\\Python36\\site-packages\\sklearn\\metrics\\_classification.py:1268: UndefinedMetricWarning: Precision and F-score are ill-defined and being set to 0.0 in labels with no predicted samples. Use `zero_division` parameter to control this behavior.\n",
      "  _warn_prf(average, modifier, msg_start, len(result))\n",
      "C:\\Users\\chib\\AppData\\Roaming\\Python\\Python36\\site-packages\\sklearn\\metrics\\_classification.py:1268: UndefinedMetricWarning: Precision and F-score are ill-defined and being set to 0.0 in labels with no predicted samples. Use `zero_division` parameter to control this behavior.\n",
      "  _warn_prf(average, modifier, msg_start, len(result))\n",
      "C:\\Users\\chib\\AppData\\Roaming\\Python\\Python36\\site-packages\\sklearn\\metrics\\_classification.py:1268: UndefinedMetricWarning: Precision and F-score are ill-defined and being set to 0.0 in labels with no predicted samples. Use `zero_division` parameter to control this behavior.\n",
      "  _warn_prf(average, modifier, msg_start, len(result))\n",
      "C:\\Users\\chib\\AppData\\Roaming\\Python\\Python36\\site-packages\\sklearn\\metrics\\_classification.py:1268: UndefinedMetricWarning: Precision and F-score are ill-defined and being set to 0.0 in labels with no predicted samples. Use `zero_division` parameter to control this behavior.\n",
      "  _warn_prf(average, modifier, msg_start, len(result))\n",
      "C:\\Users\\chib\\AppData\\Roaming\\Python\\Python36\\site-packages\\sklearn\\metrics\\_classification.py:1268: UndefinedMetricWarning: Precision and F-score are ill-defined and being set to 0.0 in labels with no predicted samples. Use `zero_division` parameter to control this behavior.\n",
      "  _warn_prf(average, modifier, msg_start, len(result))\n"
     ]
    }
   ],
   "source": [
    "print(\" ********************************** Train Results Start Here ********************************** \\n\")\n",
    "\n",
    "print(classification_report(trainMultiActual, trainMultiPredicted))\n",
    "print(confusion_matrix(trainMultiActual, trainMultiPredicted))\n",
    "accuracyScore=accuracy_score(trainMultiActual, trainMultiPredicted, normalize=True)\n",
    "print(\"The Accuracy Score is\",str(round(accuracyScore*100,0)),\" %\",\"\\n\")\n",
    "\n",
    "print(\" ********************************** Test Results Start Here ********************************** \\n\")\n",
    "\n",
    "print(classification_report(multinomialExpected, multinomialPredicted))\n",
    "print(confusion_matrix(multinomialExpected, multinomialPredicted))\n",
    "accuracyScore=accuracy_score(multinomialExpected, multinomialPredicted, normalize=True)\n",
    "print(\"The Accuracy Score is\",str(round(accuracyScore*100,0)),\" %\")"
   ]
  },
  {
   "cell_type": "markdown",
   "metadata": {},
   "source": [
    "# 7. Plot the decision boundary, visualize training and test results of all the models (3 points)"
   ]
  },
  {
   "cell_type": "markdown",
   "metadata": {},
   "source": [
    "### 7.1 GaussianNB Model Training Visualization"
   ]
  },
  {
   "cell_type": "code",
   "execution_count": 227,
   "metadata": {},
   "outputs": [
    {
     "data": {
      "image/png": "[encoded data removed]",
      "text/plain": [
       "<Figure size 432x288 with 1 Axes>"
      ]
     },
     "metadata": {
      "needs_background": "light"
     },
     "output_type": "display_data"
    }
   ],
   "source": [
    "plot_decision_regions(X_train,y_train, clf=irisGaussianModel, legend=2)\n",
    "plt.xlabel('length in cm')\n",
    "plt.title('Gaussian on Iris Data Set Training Data')\n",
    "plt.show()"
   ]
  },
  {
   "cell_type": "markdown",
   "metadata": {},
   "source": [
    "### 7.2 GaussianNB Model Testing Visualization"
   ]
  },
  {
   "cell_type": "code",
   "execution_count": 228,
   "metadata": {
    "scrolled": true
   },
   "outputs": [
    {
     "data": {
      "image/png": "[encoded data removed]",
      "text/plain": [
       "<Figure size 432x288 with 1 Axes>"
      ]
     },
     "metadata": {
      "needs_background": "light"
     },
     "output_type": "display_data"
    }
   ],
   "source": [
    "plot_decision_regions(X_test,y_test, clf=irisGaussianModel, legend=2)\n",
    "plt.xlabel('length in cm')\n",
    "plt.title('Gaussian on Iris Data Set Testing Data')\n",
    "plt.show()"
   ]
  },
  {
   "cell_type": "markdown",
   "metadata": {},
   "source": [
    "### 7.3 BernoulliNB Model Training Visualization"
   ]
  },
  {
   "cell_type": "code",
   "execution_count": 229,
   "metadata": {},
   "outputs": [
    {
     "name": "stderr",
     "output_type": "stream",
     "text": [
      "C:\\anaconda3\\envs\\python3.7\\lib\\site-packages\\matplotlib\\contour.py:1243: UserWarning: No contour levels were found within the data range.\n",
      "  warnings.warn(\"No contour levels were found\"\n"
     ]
    },
    {
     "data": {
      "image/png": "[encoded data removed]",
      "text/plain": [
       "<Figure size 432x288 with 1 Axes>"
      ]
     },
     "metadata": {
      "needs_background": "light"
     },
     "output_type": "display_data"
    }
   ],
   "source": [
    "plot_decision_regions(X_train,y_train, clf=irisBernoulliNBModel, legend=2)\n",
    "plt.xlabel('length in cm')\n",
    "plt.title('Bernoulli on Iris Data Set Training Data')\n",
    "plt.show()"
   ]
  },
  {
   "cell_type": "markdown",
   "metadata": {},
   "source": [
    "### 7.4 BernoulliNB Model Testing Visualization"
   ]
  },
  {
   "cell_type": "code",
   "execution_count": 230,
   "metadata": {},
   "outputs": [
    {
     "name": "stderr",
     "output_type": "stream",
     "text": [
      "C:\\anaconda3\\envs\\python3.7\\lib\\site-packages\\matplotlib\\contour.py:1243: UserWarning: No contour levels were found within the data range.\n",
      "  warnings.warn(\"No contour levels were found\"\n"
     ]
    },
    {
     "data": {
      "image/png": "[encoded data removed]",
      "text/plain": [
       "<Figure size 432x288 with 1 Axes>"
      ]
     },
     "metadata": {
      "needs_background": "light"
     },
     "output_type": "display_data"
    }
   ],
   "source": [
    "plot_decision_regions(X_test,y_test, clf=irisBernoulliNBModel, legend=2)\n",
    "plt.xlabel('length in cm')\n",
    "plt.title('Bernoulli on Iris Data Set Testing Data')\n",
    "plt.show()"
   ]
  },
  {
   "cell_type": "markdown",
   "metadata": {},
   "source": [
    "### 7.5 MulinominalNB Model Training Visualization"
   ]
  },
  {
   "cell_type": "code",
   "execution_count": 231,
   "metadata": {},
   "outputs": [
    {
     "data": {
      "image/png": "[encoded data removed]",
      "text/plain": [
       "<Figure size 432x288 with 1 Axes>"
      ]
     },
     "metadata": {
      "needs_background": "light"
     },
     "output_type": "display_data"
    }
   ],
   "source": [
    "plot_decision_regions(X_train,y_train, clf=irisMultinomialModel, legend=2)\n",
    "plt.xlabel('length in cm')\n",
    "plt.title('MultinomialNB on Iris Data Set Training Data')\n",
    "plt.show()"
   ]
  },
  {
   "cell_type": "markdown",
   "metadata": {},
   "source": [
    "### 7.6 MulinominalNB Model Testing Visualization"
   ]
  },
  {
   "cell_type": "code",
   "execution_count": 232,
   "metadata": {},
   "outputs": [
    {
     "data": {
      "image/png": "[encoded data removed]",
      "text/plain": [
       "<Figure size 432x288 with 1 Axes>"
      ]
     },
     "metadata": {
      "needs_background": "light"
     },
     "output_type": "display_data"
    }
   ],
   "source": [
    "plot_decision_regions(X_test,y_test, clf=irisMultinomialModel, legend=4)\n",
    "plt.xlabel('length in cm')\n",
    "plt.title('Bernoulli on Iris Data Set Testing Data')\n",
    "plt.show()"
   ]
  }
 ],
 "metadata": {
  "kernelspec": {
   "display_name": "Python [conda env:python3.7] *",
   "language": "python",
   "name": "conda-env-python3.7-py"
  },
  "language_info": {
   "codemirror_mode": {
    "name": "ipython",
    "version": 3
   },
   "file_extension": ".py",
   "mimetype": "text/x-python",
   "name": "python",
   "nbconvert_exporter": "python",
   "pygments_lexer": "ipython3",
   "version": "3.6.7"
  }
 },
 "nbformat": 4,
 "nbformat_minor": 2
}
